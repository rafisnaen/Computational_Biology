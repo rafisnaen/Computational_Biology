{
 "cells": [
  {
   "cell_type": "code",
   "execution_count": 2,
   "id": "4773e29c",
   "metadata": {},
   "outputs": [],
   "source": [
    "from Bio.Seq import Seq"
   ]
  },
  {
   "cell_type": "code",
   "execution_count": 3,
   "id": "bf2685b0",
   "metadata": {},
   "outputs": [
    {
     "name": "stdout",
     "output_type": "stream",
     "text": [
      "AUGCGUUUAUGACGUAUCUGAAGUCUACUAGGGUGAUCUGACUAA \n",
      " GUGUUAGUGCGCUAGUGCUGACUAGGUACAGUAGCUAGUUACUAG\n"
     ]
    }
   ],
   "source": [
    "Seq_A = Seq(\"ATGCGTTTATGACGTATCTGAAGTCTACTAGGGTGATCTGACTAA\")\n",
    "Seq_B = Seq(\"GTGTTAGTGCGCTAGTGCTGACTAGGTACAGTAGCTAGTTACTAG\")\n",
    "\n",
    "mRNA_A = Seq_A.transcribe()\n",
    "mRNA_B = Seq_B.transcribe()\n",
    "print(mRNA_A, \"\\n\", mRNA_B)"
   ]
  },
  {
   "cell_type": "code",
   "execution_count": 13,
   "id": "52a36701",
   "metadata": {},
   "outputs": [
    {
     "name": "stdout",
     "output_type": "stream",
     "text": [
      "AUGCGUUUAUGACGUAUCUGAAGUGGUACAGUAGCUAGUUACUAG\n"
     ]
    }
   ],
   "source": [
    "mRNA_C = mRNA_A[:24] + mRNA_B[len(Seq_B)-21:]\n",
    "print(mRNA_C)"
   ]
  },
  {
   "cell_type": "code",
   "execution_count": 17,
   "id": "e80886a1",
   "metadata": {},
   "outputs": [
    {
     "name": "stdout",
     "output_type": "stream",
     "text": [
      "MRL*RI*SLLG*SD* VLVR*C*LGTVASY* MRL*RI*SGTVASY*\n",
      "MetArgLeuTerArgIleTerSerLeuLeuGlyTerSerAspTer ValLeuValArgTerCysTerLeuGlyThrValAlaSerTyrTer MetArgLeuTerArgIleTerSerGlyThrValAlaSerTyrTer\n"
     ]
    }
   ],
   "source": [
    "from Bio.SeqUtils import seq3\n",
    "translate_A = mRNA_A.translate()\n",
    "translate_B = mRNA_B.translate()\n",
    "translate_C = mRNA_C.translate()\n",
    "\n",
    "AminoAcid_A = seq3(translate_A)\n",
    "AminoAcid_B = seq3(translate_B)\n",
    "AminoAcid_C = seq3(translate_C)\n",
    "\n",
    "print(translate_A, translate_B, translate_C)\n",
    "print(AminoAcid_A, AminoAcid_B, AminoAcid_C)"
   ]
  },
  {
   "cell_type": "code",
   "execution_count": 21,
   "id": "d5ee345c",
   "metadata": {},
   "outputs": [
    {
     "name": "stdout",
     "output_type": "stream",
     "text": [
      "ATGCGTTTATGACGTATCTGAAGTGGTACAGTAGCTAGTTACTAG\n"
     ]
    }
   ],
   "source": [
    "sense_C = mRNA_C.back_transcribe()\n",
    "print(sense_C)"
   ]
  },
  {
   "cell_type": "code",
   "execution_count": 23,
   "id": "f37817a9",
   "metadata": {},
   "outputs": [
    {
     "name": "stdout",
     "output_type": "stream",
     "text": [
      "TACGCAAATACTGCATAGACTTCAGATGATCCCACTAGACTGATT\n",
      "CACAATCACGCGATCACGACTGATCCATGTCATCGATCAATGATC\n",
      "TACGCAAATACTGCATAGACTTCACCATGTCATCGATCAATGATC\n"
     ]
    }
   ],
   "source": [
    "complement_A = Seq_A.complement()\n",
    "complement_B = Seq_B.complement()\n",
    "complement_C = sense_C.complement()\n",
    "print(complement_A)\n",
    "print(complement_B)\n",
    "print(complement_C)"
   ]
  }
 ],
 "metadata": {
  "kernelspec": {
   "display_name": "compBio",
   "language": "python",
   "name": "python3"
  },
  "language_info": {
   "codemirror_mode": {
    "name": "ipython",
    "version": 3
   },
   "file_extension": ".py",
   "mimetype": "text/x-python",
   "name": "python",
   "nbconvert_exporter": "python",
   "pygments_lexer": "ipython3",
   "version": "3.7.6"
  }
 },
 "nbformat": 4,
 "nbformat_minor": 5
}
