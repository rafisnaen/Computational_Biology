{
 "cells": [
  {
   "cell_type": "code",
   "execution_count": 13,
   "id": "26d59620",
   "metadata": {},
   "outputs": [],
   "source": [
    "from Bio.Seq import Seq\n",
    "from collections import Counter\n",
    "from Bio import SeqIO\n",
    "import matplotlib.pyplot as plt\n",
    "from Bio.SeqUtils import GC\n",
    "from Bio.SeqUtils import MeltingTemp\n",
    "from Levenshtein import distance"
   ]
  },
  {
   "cell_type": "code",
   "execution_count": null,
   "id": "d8689158",
   "metadata": {},
   "outputs": [],
   "source": [
    "fasta = SeqIO.read(\"./session_5/sequence.fasta\", \"fasta\")\n",
    "Seq_Z = fasta.seq\n",
    "\n",
    "# Cari length\n",
    "length = len(Seq_Z)\n",
    "# misal cari index pertama dari AGCT\n",
    "first_index = Seq_Z.find(\"AGCT\")\n",
    "# Bikin sequence pake gabungan : bisa jadi 2 fasta digabungin jd satu\n",
    "# Bisa jadi satu fasta tapi dibagi 2\n",
    "# misal mau ambil 50 pertama dan 20 terakhir\n",
    "Seq_A = Seq_Z[:50]\n",
    "Seq_B = Seq_Z[-20:]\n",
    "# Kalau kasusnya nanti adalah : ambil dari basa ke 4 hingga ke 10\n",
    "# brarti jadinya :\n",
    "# Seq_B = Seq_Z[3:10]\n",
    "# Kalau ada permainan kata : ambil dari index ke 4 hingga ke 10\n",
    "# brarti nanti :\n",
    "# Seq_B = Seq_Z[4:11]"
   ]
  },
  {
   "cell_type": "code",
   "execution_count": 16,
   "id": "6111f829",
   "metadata": {},
   "outputs": [
    {
     "data": {
      "text/plain": [
       "<BarContainer object of 4 artists>"
      ]
     },
     "execution_count": 16,
     "metadata": {},
     "output_type": "execute_result"
    },
    {
     "data": {
      "image/png": "[encoded data removed]",
      "text/plain": [
       "<Figure size 640x480 with 2 Axes>"
      ]
     },
     "metadata": {},
     "output_type": "display_data"
    }
   ],
   "source": [
    "freq_A = Counter(Seq_A)\n",
    "freq_B = Counter(Seq_B)\n",
    "\n",
    "freq_keys_A = freq_A.keys()\n",
    "freq_keys_B = freq_B.keys()\n",
    "\n",
    "freq_values_A = freq_A.values()\n",
    "freq_values_B = freq_B.values()\n",
    "\n",
    "_,axs = plt.subplots(1,2)\n",
    "axs[0].bar(freq_keys_A,freq_values_A)\n",
    "axs[1].bar(freq_keys_B,freq_values_B)"
   ]
  },
  {
   "cell_type": "code",
   "execution_count": null,
   "id": "62c95a91",
   "metadata": {},
   "outputs": [],
   "source": [
    "GC_A = GC(Seq_A)\n",
    "GC_B = GC(Seq_B)\n",
    "\n",
    "AT_A = 100 - GC_A\n",
    "AT_B = 100 - GC_B"
   ]
  },
  {
   "cell_type": "code",
   "execution_count": 21,
   "id": "0c6a56ff",
   "metadata": {},
   "outputs": [
    {
     "name": "stdout",
     "output_type": "stream",
     "text": [
      "71.87011297788149 73.3733339885701\n"
     ]
    }
   ],
   "source": [
    "MeltTemp_A = MeltingTemp.Tm_NN(Seq_A)\n",
    "MeltTemp_B = MeltingTemp.Tm_NN(Seq_B)\n",
    "print(MeltTemp_A, MeltTemp_B)"
   ]
  },
  {
   "cell_type": "code",
   "execution_count": null,
   "id": "2a8ac0a9",
   "metadata": {},
   "outputs": [
    {
     "name": "stdout",
     "output_type": "stream",
     "text": [
      "AUGCGUACGUUAGCCUAGGCUAACGUAGGCUUACGGUAGCUAGCUGAUCGUACGUAGCUAG \n",
      "GCUAGCAUCGGAUACGUUAGGCCAUGCGUACCUGGAAUCGUACCGUGGAUCGAUCAGGUAC\n",
      "\n",
      "AlaSecGlyCysGlySecAlaCysGlySecSecAlaGlyCysCysSecAlaGlyGlyCysSecAlaAlaCysGlySecAlaGlyGlyCysSecSecAlaCysGlyGlySecAlaGlyCysSecAlaGlyCysSecGlyAlaSecCysGlySecAlaCysGlySecAlaGlyCysSecAlaGly \n",
      "GlyCysSecAlaGlyCysAlaSecCysGlyGlyAlaSecAlaCysGlySecSecAlaGlyGlyCysCysAlaSecGlyCysGlySecAlaCysCysSecGlyGlyAlaAlaSecCysGlySecAlaCysCysGlySecGlyGlyAlaSecCysGlyAlaSecCysAlaGlyGlySecAlaCys\n"
     ]
    }
   ],
   "source": [
    "from Bio.SeqUtils import seq3\n",
    "mRNA_A = Seq_A.transcribe()\n",
    "mRNA_B = Seq_B.transcribe()\n",
    "print(mRNA_A,\"\\n\"+ mRNA_B)\n",
    "\n",
    "Amino_Acid_A = seq3(mRNA_A)\n",
    "Amino_Acid_B = seq3(mRNA_B)\n",
    "print(\"\\n\"+ Amino_Acid_A,\"\\n\"+ Amino_Acid_B)\n"
   ]
  },
  {
   "cell_type": "code",
   "execution_count": null,
   "id": "5e6ad4c0",
   "metadata": {},
   "outputs": [
    {
     "name": "stdout",
     "output_type": "stream",
     "text": [
      "84.0\n"
     ]
    }
   ],
   "source": [
    "from Bio import pairwise2\n",
    "from Bio.pairwise2 import format_alignment\n",
    "\n",
    "# contoh kasus global alignment, match 2 mismatch -1\n",
    "global_alignment_score = pairwise2.align.globalmx(Seq_A, Seq_B, 2, -1, one_alignment_only = True, score_only = True)\n",
    "# for i in global_alignment_score:\n",
    "#     print(i)\n",
    "#     print(format_alignment(*i))\n",
    "print(global_alignment_score)"
   ]
  },
  {
   "cell_type": "code",
   "execution_count": 31,
   "id": "a7ed2c26",
   "metadata": {},
   "outputs": [
    {
     "name": "stdout",
     "output_type": "stream",
     "text": [
      "30\n"
     ]
    }
   ],
   "source": [
    "Levenshtein_distance = distance(Seq_A, Seq_B)\n",
    "print(Levenshtein_distance)"
   ]
  }
 ],
 "metadata": {
  "kernelspec": {
   "display_name": "compBio",
   "language": "python",
   "name": "python3"
  },
  "language_info": {
   "codemirror_mode": {
    "name": "ipython",
    "version": 3
   },
   "file_extension": ".py",
   "mimetype": "text/x-python",
   "name": "python",
   "nbconvert_exporter": "python",
   "pygments_lexer": "ipython3",
   "version": "3.7.6"
  }
 },
 "nbformat": 4,
 "nbformat_minor": 5
}
