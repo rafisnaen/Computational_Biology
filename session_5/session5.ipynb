{
 "cells": [
  {
   "cell_type": "code",
   "execution_count": 13,
   "id": "1d71d67d",
   "metadata": {},
   "outputs": [
    {
     "name": "stdout",
     "output_type": "stream",
     "text": [
      "TACGTCAAAACAGAAATTTCGCCAAAACTTGAATAGAACGTTGCGACAATTATTATTACAGTTAAACAAATTGTTATCCAAAACTACATGAGCAATGGGTAGTAACCAAGATTGGAACAAGGAAGACTCCAAAACTGAGGTCCCACCTGAGGAAGATGACCAAGTGACAGCATACATTGAGAAATCAGTGGCCCAATTGGGCTCCGAAAATGATCACCGTACCGCGCTGGTCGATGAAAAGAAGAAGGAGTTGGATGTCCTGATTGCCGAGAAGTACACCACTTTGAACGACTTAACCCATGTCACCAATTCCCAGAATCTTGTGGACGACATCCACTTTCTGCATACGAAGAACGCCAAGATCCTGGAGAGCCTCAATCAGGCGGTCACCGCCAAGAGAAACGTCTCCCAGGCCTACGATGACCATT\n",
      "GCAAGAAGGCGCTCAAGGTCAAGGCCGAGATGCAGGAGCAGACGAAATGCTTCGATGAGTTCACCGTGATGAACTACCACGATCTAAAGAAGACCATACTTAACACCAAGAAAGAAACGCAAGAAATTCGCGCTAAGACGGCTTTAAAGACCGAGGAGCTCAAAAAGAAGCGAGAATTTGTTAACACCACCCAAAAGTCAATGGCTAATGATATCCGTGTTCTAGGCCAGATCGAACATGACCTCATTGGGATAATCGAAGACTTAAAATCCAAAATTTCTGCAATTTAAGTACAGGAAAACAAATAACACTTGAACAATCGCCAAAGGTGCATTGGAAAATACGGTCGTACCTCATCTTCCAAAAAATAATCCTTAATATTGCTGCGTTTTCCAAATAATTTGACAAATAAAGTACTTTTTATTCTGT\n"
     ]
    }
   ],
   "source": [
    "from Bio import SeqIO\n",
    "fasta = SeqIO.read(\"sequence.fasta\", \"fasta\")\n",
    "\n",
    "length = round(len(fasta.seq) / 2)\n",
    "seq_A = fasta.seq[:length]\n",
    "seq_B = fasta.seq[length:]\n",
    "\n",
    "print(seq_A)\n",
    "print(seq_B)\n",
    "#same method for genbank"
   ]
  },
  {
   "cell_type": "code",
   "execution_count": 14,
   "id": "a21a68dd",
   "metadata": {},
   "outputs": [
    {
     "name": "stdout",
     "output_type": "stream",
     "text": [
      "NM_142462.3\n",
      "TACGTCAAAACAGAAATTTCGCCAAAACTTGAATAGAACGTTGCGACAATTATTATTACAGTTAAACAAATTGTTATCCAAAACTACATGAGCAATGGGTAGTAACCAAGATTGGAACAAGGAAGACTCCAAAACTGAGGTCCCACCTGAGGAAGATGACCAAGTGACAGCATACATTGAGAAATCAGTGGCCCAATTGGGCTCCGAAAATGATCACCGTACCGCGCTGGTCGATGAAAAGAAGAAGGAGTTGGATGTCCTGATTGCCGAGAAGTACACCACTTTGAACGACTTAACCCATGTCACCAATTCCCAGAATCTTGTGGACGACATCCACTTTCTGCATACGAAGAACGCCAAGATCCTGGAGAGCCTCAATCAGGCGGTCACCGCCAAGAGAAACGTCTCCCAGGCCTACGATGACCATTGCAAGAAGGCGCTCAAGGTCAAGGCCGAGATGCAGGAGCAGACGAAATGCTTCGATGAGTTCACCGTGATGAACTACCACGATCTAAAGAAGACCATACTTAACACCAAGAAAGAAACGCAAGAAATTCGCGCTAAGACGGCTTTAAAGACCGAGGAGCTCAAAAAGAAGCGAGAATTTGTTAACACCACCCAAAAGTCAATGGCTAATGATATCCGTGTTCTAGGCCAGATCGAACATGACCTCATTGGGATAATCGAAGACTTAAAATCCAAAATTTCTGCAATTTAAGTACAGGAAAACAAATAACACTTGAACAATCGCCAAAGGTGCATTGGAAAATACGGTCGTACCTCATCTTCCAAAAAATAATCCTTAATATTGCTGCGTTTTCCAAATAATTTGACAAATAAAGTACTTTTTATTCTGT\n"
     ]
    }
   ],
   "source": [
    "fasta_A = SeqIO.parse(\"sequence.fasta\", \"fasta\")\n",
    "for i in fasta_A:\n",
    "    print(i.id)\n",
    "    print(i.seq)"
   ]
  },
  {
   "cell_type": "code",
   "execution_count": 15,
   "id": "fdc0fcd1",
   "metadata": {},
   "outputs": [],
   "source": [
    "# from Bio.PDB import PDBParser\n",
    "# pdbparser = PDBParser()\n",
    "# structure = pdbparser.get_structure(\"xxxxxx\", \"xxx.pdb\")\n",
    "# model = structure[0]\n",
    "# for c in model:\n",
    "#     print(\"chain\", c)\n",
    "#     for r in c:\n",
    "#         print(\"residue\", r)\n",
    "#         for a in r:\n",
    "#             print(\"atom\", a)\n",
    "\n",
    "# Same method for cif\n"
   ]
  }
 ],
 "metadata": {
  "kernelspec": {
   "display_name": "compBio",
   "language": "python",
   "name": "python3"
  },
  "language_info": {
   "codemirror_mode": {
    "name": "ipython",
    "version": 3
   },
   "file_extension": ".py",
   "mimetype": "text/x-python",
   "name": "python",
   "nbconvert_exporter": "python",
   "pygments_lexer": "ipython3",
   "version": "3.7.6"
  }
 },
 "nbformat": 4,
 "nbformat_minor": 5
}
