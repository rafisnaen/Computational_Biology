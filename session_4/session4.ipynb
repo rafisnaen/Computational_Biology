{
 "cells": [
  {
   "cell_type": "code",
   "execution_count": 2,
   "id": "346e0146",
   "metadata": {},
   "outputs": [],
   "source": [
    "#Alignment : dicari bagian pada target sequence yang paling mirip, berdasarkan query sequence (subset)\n",
    "\n",
    "# Local alignment :\n",
    "# Subset sequence / Query sequence pada Local alignment, itu tidak disebar. \n",
    "# Jadi subset sequencenya masih dalam satu baris utuh, dan dicari bagian mana yang paling mirip dgn target seq\n",
    "\n",
    "# Global alignment : \n",
    "# Subset sequence / Query sudah disebar, untuk mencari bagian yang paling mirip berdasarkan query sequence (subset)\n",
    "# Jadi subset seq nya sudah ga utuh lagi, bisa keacak, atau kesebar2 biar match yang paling mirip.\n",
    "# Nyesuain nya dari ujung kiri sampe ujung kanan, makanya kesebar.\n",
    "# Karna kesebar - sebar, jadi bakalan ada gap di antara subset seq nya."
   ]
  },
  {
   "cell_type": "code",
   "execution_count": 3,
   "id": "cba63944",
   "metadata": {},
   "outputs": [],
   "source": [
    "from Bio.Seq import Seq\n",
    "\n",
    "Seq_A = Seq(\"AAGCTTAGCTAGAGCAGTCAGCTAGCTAGCT\")\n",
    "Seq_B = Seq(\"TCTGAAGCTAGCTAGTGCATAGCTAGCTAGC\")"
   ]
  },
  {
   "cell_type": "code",
   "execution_count": 5,
   "id": "9c418f1b",
   "metadata": {},
   "outputs": [
    {
     "name": "stdout",
     "output_type": "stream",
     "text": [
      "26.0\n"
     ]
    }
   ],
   "source": [
    "from Bio import pairwise2\n",
    "from Bio.pairwise2 import format_alignment\n",
    "\n",
    "score = pairwise2.align.localxx(Seq_A, Seq_B, one_alignment_only = True, score_only = True)\n",
    "print(score)"
   ]
  },
  {
   "cell_type": "code",
   "execution_count": 7,
   "id": "95574738",
   "metadata": {},
   "outputs": [
    {
     "name": "stdout",
     "output_type": "stream",
     "text": [
      "30\n"
     ]
    }
   ],
   "source": [
    "def hamming(Seq_A, Seq_B):\n",
    "    result = 0\n",
    "    for x,y in zip(Seq_A, Seq_B):\n",
    "        if(x != y):\n",
    "            result += 1\n",
    "    return result\n",
    "\n",
    "print(hamming(Seq_A, Seq_B))"
   ]
  },
  {
   "cell_type": "code",
   "execution_count": 8,
   "id": "ec784249",
   "metadata": {},
   "outputs": [
    {
     "name": "stdout",
     "output_type": "stream",
     "text": [
      "9\n"
     ]
    }
   ],
   "source": [
    "from Levenshtein import distance\n",
    "\n",
    "score_Levenshtein = distance(Seq_A, Seq_B)\n",
    "print(score_Levenshtein)"
   ]
  },
  {
   "cell_type": "code",
   "execution_count": 21,
   "id": "1c8b8aa2",
   "metadata": {},
   "outputs": [
    {
     "name": "stdout",
     "output_type": "stream",
     "text": [
      " |AAGCTTAGCTAGAGCAGTCAGCTAGCTAGCT\n",
      "T|    XX   X       X    X   X   X\n",
      "C|   X    X     X   X  X   X   X \n",
      "T|    XX   X       X    X   X   X\n",
      "G|  X    X   X X  X   X   X   X  \n",
      "A|XX    X   X X  X   X   X   X   \n",
      "A|XX    X   X X  X   X   X   X   \n",
      "G|  X    X   X X  X   X   X   X  \n",
      "C|   X    X     X   X  X   X   X \n",
      "T|    XX   X       X    X   X   X\n",
      "A|XX    X   X X  X   X   X   X   \n",
      "G|  X    X   X X  X   X   X   X  \n",
      "C|   X    X     X   X  X   X   X \n",
      "T|    XX   X       X    X   X   X\n",
      "A|XX    X   X X  X   X   X   X   \n",
      "G|  X    X   X X  X   X   X   X  \n",
      "T|    XX   X       X    X   X   X\n",
      "G|  X    X   X X  X   X   X   X  \n",
      "C|   X    X     X   X  X   X   X \n",
      "A|XX    X   X X  X   X   X   X   \n",
      "T|    XX   X       X    X   X   X\n",
      "A|XX    X   X X  X   X   X   X   \n",
      "G|  X    X   X X  X   X   X   X  \n",
      "C|   X    X     X   X  X   X   X \n",
      "T|    XX   X       X    X   X   X\n",
      "A|XX    X   X X  X   X   X   X   \n",
      "G|  X    X   X X  X   X   X   X  \n",
      "C|   X    X     X   X  X   X   X \n",
      "T|    XX   X       X    X   X   X\n",
      "A|XX    X   X X  X   X   X   X   \n",
      "G|  X    X   X X  X   X   X   X  \n",
      "C|   X    X     X   X  X   X   X \n"
     ]
    }
   ],
   "source": [
    "print(\" |\"+Seq_A)\n",
    "for i in Seq_B:\n",
    "    result = \"\"\n",
    "    for j in Seq_A:\n",
    "        if(i == j):\n",
    "            result += \"X\"\n",
    "        else:\n",
    "            result += \" \"\n",
    "    print(i + \"|\" + result)"
   ]
  }
 ],
 "metadata": {
  "kernelspec": {
   "display_name": "compBio",
   "language": "python",
   "name": "python3"
  },
  "language_info": {
   "codemirror_mode": {
    "name": "ipython",
    "version": 3
   },
   "file_extension": ".py",
   "mimetype": "text/x-python",
   "name": "python",
   "nbconvert_exporter": "python",
   "pygments_lexer": "ipython3",
   "version": "3.7.6"
  }
 },
 "nbformat": 4,
 "nbformat_minor": 5
}
